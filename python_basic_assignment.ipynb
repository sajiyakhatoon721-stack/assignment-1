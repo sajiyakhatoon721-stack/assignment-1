{
  "nbformat": 4,
  "nbformat_minor": 0,
  "metadata": {
    "colab": {
      "provenance": []
    },
    "kernelspec": {
      "name": "python3",
      "display_name": "Python 3"
    },
    "language_info": {
      "name": "python"
    }
  },
  "cells": [
    {
      "cell_type": "markdown",
      "source": [
        "# theory\n",
        "\n",
        "\n",
        "\n",
        "\n",
        "\n"
      ],
      "metadata": {
        "id": "MyLuecKvkcsA"
      }
    },
    {
      "cell_type": "markdown",
      "source": [
        "SECTION 1: Python Basic Theory questions.\n",
        "\n",
        "1. what is python, and why is it popular?\n",
        "  -> Python is a high-level, interpreted, general-purpose programming language. This means it's designed to be easy to read and write, and it can be used for a wide variety of tasks without needing to be compiled before running.\n",
        "  It was created by Guido Van Rossum and officially released in 1991.\n",
        "\n",
        "Python's popularity stems from several key factors:\n",
        "\n",
        " * Readability and ease of learning: Python's syntax is clean and intuitive, making it relatively easy for beginners to learn and understand.\n",
        " * Large and active community: Python has a massive community of developers who contribute to its ecosystem, create libraries, and provide support. This means you can find solutions to most problems and access a wealth of resources.\n",
        " * Extensive libraries and frameworks: Python boasts a vast collection of libraries and frameworks for almost every task imaginable. This saves developers time and effort by providing pre-built tools and functionalities.\n",
        " * Versatility: As a general-purpose language, Python can be applied to a wide range of domains, making it attractive to developers with diverse interests.\n",
        " * Strong industry support: Many major companies and organizations use Python extensively, which contributes to its popularity and job opportunities.\n",
        "In essence, Python's combination of ease of use, versatility, and a strong community has made it a dominant force in the programming world.\n",
        "\n",
        "2.What is interpreter in python?\n",
        "  -> An interpreter in Python is a program that directly executes the code you've written, line by line. It reads your Python code, translates it into machine code (which your computer understands), and then runs it immediately. This is different from compiled languages, where the entire code is converted into machine code in one go before execution.\n",
        "\n",
        "  Interpreter: A translator who translates spoken language sentence by sentence as someone speaks.\n",
        "  Compiler: A translator who waits for someone to finish speaking an entire speech, then translates the whole speech at once.\n",
        "  The key advantage of using an interpreter is that it makes the development process faster. You can write a line of code and see the results immediately, which is great for testing and debugging.\n",
        "\n",
        "3. what are pre-defined keywords in python?\n",
        "  -> In Python, keywords (sometimes called reserved words) are special words that have a specific meaning and purpose in the language. You cannot use these words as variable names, function names, or any other identifier.\n",
        "\n",
        " Here are some common examples of Python keywords:\n",
        "\n",
        " if, else, elif: Used for conditional statements.\n",
        " for, while: Used for loops.\n",
        "def: Used to define functions.\n",
        "class: Used to define classes.\n",
        "import: Used to import modules.\n",
        "return: Used to return a value from a function.\n",
        "True, False, None: Special constant values.\n",
        "There are more keywords in Python, and their exact set can vary slightly between different versions of Python.\n",
        "\n",
        "4. Can keywords be used as variable names?\n",
        "   -> No, you cannot use Python keywords as variable names or any other identifier (like function names, class names, etc.). Keywords have a specific meaning and purpose in the Python language, and using them as identifiers would cause syntax errors.\n",
        "\n",
        "5. What is mutability in python?\n",
        "  -> In Python, mutability refers to whether an object's state can be changed after it is created.\n",
        "\n",
        " Mutable objects can be changed after creation. This means you can modify their contents without creating a new object. Examples of mutable objects include lists, dictionaries, and sets.\n",
        " Immutable objects cannot be changed after creation. If you want to modify an immutable object, you have to create a new object with the desired changes. Examples of immutable objects include strings, tuples, numbers (integers, floats), and booleans\n",
        "\n",
        "6.Why are list mutable, but tuples are immutable?\n",
        "  -> In Python, the difference in mutability between lists and tuples is by design and relates to their intended use cases.\n",
        "\n",
        " Lists are Mutable: Lists are designed for dynamic collections that are expected to change. You can add, remove, or modify elements in a list after it's created. When you modify a list, Python changes the contents of the existing list object in memory.\n",
        "\n",
        " Tuples are Immutable: Tuples are designed for fixed collections where the order and contents should not change after creation. If you attempt to \"modify\" a tuple, Python actually creates a new tuple object with the desired changes, leaving the original tuple unchanged. This immutability can offer benefits in terms of memory efficiency and data integrity for fixed sets of data.\n",
        "\n",
        " In summary, lists are mutable for flexibility in handling collections that change, while tuples are immutable for representing fixed data where consistency is important.\n",
        "\n",
        "7.What is the difference between \"==\" and \"is\" operators in python?\n",
        "  ->  The \"==\" and \"is\" operators in Python are used for comparison, but they check for different things.\n",
        "\n",
        " Here's the key difference:\n",
        "\n",
        " * == (Equality operator): This operator checks if the values of two operands are equal. It compares the contents of the objects.\n",
        " * is (Identity operator): This operator checks if two operands refer to the same object in memory. It compares the memory addresses of the objects.\n",
        " In simpler terms:\n",
        " * '==' asks: \"Do these two things have the same value?\"\n",
        " * 'is' asks: \"Are these two things the exact same thing?\"\n",
        " For immutable objects like numbers, strings, and tuples, is and == will often produce the same result, especially for small values or interned strings. However, for mutable objects like lists and dictionaries, you can have two different objects with the same content. In that case, \"==\" would return True, but \"is\" would return False.\n",
        "\n",
        "8. What are logical operators in python?\n",
        "   -> logical operators are used to combine conditional statements and evaluate whether a statement is true or false. They are often used in if statements and loops to control the flow of your program.\n",
        "\n",
        " The main logical operators in Python are:\n",
        "\n",
        " * and: Returns True if both operands are True. Otherwise, it returns False.\n",
        " Example: True and True is True, True and False is False\n",
        " * or: Returns True if at least one of the operands is True. It returns False only if both operands are False.\n",
        " Example: True or False is True, False or False is False\n",
        " * not: This is a unary operator (it operates on a single operand) and it negates the boolean value of the operand. If the operand is True, not returns False, and if the operand is False, not returns True.\n",
        "  Example: not True is False, not False is True\n",
        "\n",
        "9. What is type casting in Python?\n",
        "   ->Type casting (also known as type conversion) in Python is the process of converting an object from one data type to another. This is often necessary when you need to perform operations that require specific data types, or when you need to change the way data is represented.\n",
        "\n",
        " Python provides built-in functions to perform type casting. Some common examples include:\n",
        "\n",
        " * int(): Converts a value to an integer.\n",
        " * float(): Converts a value to a floating-point number.\n",
        " * str(): Converts a value to a string.\n",
        " * list(): Converts a sequence (like a tuple or string) to a list.\n",
        " * tuple(): Converts a sequence (like a list or string) to a tuple.\n",
        " * set(): Converts an iterable to a set.\n",
        " * dict(): Creates a dictionary.\n",
        " Here's a simple example:\n",
        "\n",
        " # Converting an integer to a float\n",
        " num_int = 10\n",
        " num_float = float(num_int)\n",
        " print(f\"Integer: {num_int}, Float: {num_float}\")\n",
        "\n",
        " # Converting a string to an integer\n",
        " str_num = \"123\"\n",
        " int_num = int(str_num)\n",
        " print(f\"String: {str_num}, Integer: {int_num}\")\n",
        "\n",
        " # Converting a list to a tuple\n",
        " my_list = [1, 2, 3]\n",
        " my_tuple = tuple(my_list)\n",
        " print(f\"List: {my_list}, Tuple: {my_tuple}\")\n",
        "  \n",
        "  It's important to note that not all type conversions are possible, and attempting to convert a value to an incompatible type will result in a TypeError. For example, you cannot directly convert a string like \"hello\" to an integer using int().\n",
        "\n",
        "10. What is the difference between implicit and explicit type casting?\n",
        "  ->The difference between implicit and explicit type casting (or type conversion) in Python lies in whether the conversion happens automatically or if you have to explicitly tell Python to perform the conversion.\n",
        "\n",
        " Implicit Type Casting (Coercion): This happens automatically when Python needs to perform an operation on operands of different data types. Python will convert one of the operands to a common data type to avoid errors, typically when one data type is \"wider\" than the other (e.g., converting an integer to a float).\n",
        "\n",
        " Explicit Type Casting (Type Conversion): This happens when you explicitly tell Python to convert an object from one data type to another using a built-in function like int(), float(), or str(). You are directly instructing Python to perform the conversion.\n",
        "\n",
        " In summary, implicit conversion is done automatically by Python, while explicit conversion requires you to use a specific function to perform the conversion.\n",
        "\n",
        "11. What is the purpose of conditional statments in python?\n",
        "  -> The purpose of conditional statements in Python is to allow your program to make decisions and execute different blocks of code based on whether certain conditions are true or false. They introduce logic and control the flow of your program.\n",
        "\n",
        " The main conditional statements in Python are:\n",
        "\n",
        " if statement: Executes a block of code only if a condition is True.\n",
        " temperature = 25\n",
        " if temperature > 20:\n",
        "    print(\"It's a warm day.\")\n",
        " elif statement (else if): Allows you to check multiple conditions in sequence. If the previous if or elif conditions were False, this condition is checked.\n",
        " score = 85\n",
        " if score >= 90:\n",
        "    print(\"Excellent!\")\n",
        " elif score >= 70:\n",
        "    print(\"Good job.\")\n",
        " else statement: Executes a block of code if all the preceding if and elif conditions were False.\n",
        " age = 16\n",
        " if age >= 18:\n",
        "    print(\"You are an adult.\")\n",
        " else:\n",
        "    print(\"You are a minor.\")\n",
        " You can combine these statements to create complex decision-making structures in your code.\n",
        "\n",
        " In essence, conditional statements make your programs dynamic and responsive by allowing them to adapt their behavior based on different situations or input.\n",
        "\n",
        "12. How does the elif statment work?\n",
        "  -> The elif statement is short for \"else if\". It's used in conjunction with an if statement (and optionally an else statement) to check multiple conditions sequentially.\n",
        "\n",
        " Here's how it works:\n",
        "\n",
        " The program first evaluates the condition in  the initial if statement.\n",
        " If the if condition is True, the code block under the if is executed, and the program skips the elif and else blocks.\n",
        " If the if condition is False, the program then moves to the first elif statement and evaluates its condition.\n",
        " If the elif condition is True, the code block under that elif is executed, and the program skips any subsequent elif or else blocks.\n",
        " If the elif condition is False, the program moves to the next elif statement (if there is one) and repeats the process.\n",
        " If all the if and elif conditions are False, and there is an else statement, the code block under the else is executed.\n",
        " You can have multiple elif statements between an if and an else. The program will check each elif condition in order until it finds one that is True or reaches the else statement.\n",
        "\n",
        " Here's an example:\n",
        "\n",
        " grade = 75\n",
        "\n",
        " if grade >= 90:\n",
        "    print(\"Excellent!\")\n",
        " elif grade >= 80:\n",
        "    print(\"Very Good!\")\n",
        " elif grade >= 70:\n",
        "    print(\"Good!\")\n",
        " else:\n",
        "    print(\"Needs Improvement.\")\n",
        " In this example:\n",
        "\n",
        " The if grade >= 90 condition is False.\n",
        " The program moves to the first elif grade >= 80. This is also False.\n",
        " The program moves to the second elif grade >=  70. This condition is True (since 75 is greater than or equal to 70).\n",
        " The code block under the second elif (print(\"Good!\")) is executed.\n",
        " The program then skips the else block.\n",
        " So, the output of this code would be:\n",
        "\n",
        " Good!\n",
        " The elif statement is a very useful way to handle multiple possible outcomes based on different conditions in your code.\n",
        "\n",
        "13. What is the difference between for and while loops?\n",
        "   -> The difference between for and while loops in Python are\n",
        "\n",
        "Both for and while loops are used for iteration, meaning they allow you to execute a block of code repeatedly. However, they are typically used in different scenarios based on how you determine when the loop should end.\n",
        "\n",
        "Here's the main difference:\n",
        "\n",
        "for loops: These are typically used when you know in advance how many times you want to iterate or when you want to iterate over a sequence (like a list, tuple, string, or range). The loop iterates over the items of a sequence or any other iterable object.\n",
        "\n",
        "Example: Iterating over a list of numbers\n",
        "\n",
        "numbers = [1, 2, 3, 4, 5]\n",
        "for number in numbers:\n",
        "    print(number)\n",
        "Example: Iterating a specific number of times using range()\n",
        "\n",
        "for i in range(5): # This will loop 5 times (0, 1, 2, 3, 4)\n",
        "    print(f\"Iteration {i}\")\n",
        "while loops: These are typically used when you want to repeat a block of code as long as a certain condition is true. You don't necessarily know in advance how many times the loop will run; it continues until the condition becomes false.\n",
        "\n",
        "Example: Looping until a counter reaches a certain value\n",
        "\n",
        "count = 0\n",
        "while count < 5:\n",
        "    print(f\"Count is: {count}\")\n",
        "    count += 1 # Make sure to update the condition to avoid an infinite loop\n",
        "Example: Looping until a user enters a specific input\n",
        "\n",
        "user_input = \"\"\n",
        "while user_input.lower() != \"quit\":\n",
        "    user_input = input(\"Enter something (type 'quit' to exit): \")\n",
        "    print(f\"You entered: {user_input}\")\n",
        "In summary:\n",
        "\n",
        "Use a for loop when you know the number of iterations or are iterating over a collection.\n",
        "Use a while loop when you want to loop based on a condition that might change during the loop's execution.\n",
        "It's important to be careful with while loops to ensure that the condition eventually becomes false, otherwise, you'll create an infinite loop!\n",
        "\n",
        "14. Describe a scenario where a while loop is more suitable than a for loop?\n",
        " -> A while loop is particularly suitable when the number of times you need to repeat a task is not known in advance, and the loop should continue as long as a specific condition remains true.\n",
        "\n",
        "Here's a common scenario:\n",
        "\n",
        "Scenario: Getting valid user input\n",
        "\n",
        "Imagine you want to ask a user to enter a positive number. You don't know how many times the user might enter an invalid value (like a negative number or text) before they enter a valid positive number.\n",
        "\n",
        "In this case, a while loop is ideal:\n",
        "\n",
        "user_input = input(\"Please enter a positive number: \")\n",
        "number = 0 # Initialize number to a value that will make the while condition true initially\n",
        "\n",
        "while number <= 0:\n",
        "    try:\n",
        "        number = int(user_input)\n",
        "        if number <= 0:\n",
        "            print(\"That's not a positive number. Please try again.\")\n",
        "            user_input = input(\"Please enter a positive number: \")\n",
        "    except ValueError:\n",
        "        print(\"Invalid input. Please enter a number.\")\n",
        "        user_input = input(\"Please enter a positive number: \")\n",
        "\n",
        "print(f\"You entered a valid positive number: {number}\")\n",
        "Why a while loop is better here:\n",
        "\n",
        "* Unknown iterations: We don't know beforehand how many times the user will enter incorrect input.\n",
        "* Condition-based: The loop continues while the entered number is not positive (or the input is not a valid number).\n",
        "* for loop limitations: A for loop would require you to specify a range or sequence to iterate over, which doesn't fit this scenario where the repetition depends on the user's input.\n",
        "In this example, the while loop keeps prompting the user for input until the condition (number <= 0) becomes false (i.e., the user enters a positive number).\n",
        "\n",
        "SECTION 2 : Practical questions\n",
        "\n",
        "1. write a python program to print \"Hello, World!\n",
        "\n",
        "\n",
        "\n",
        "\n",
        "\n",
        "\n",
        "\n",
        "\n",
        "\n",
        "\n",
        "\n",
        "\n",
        "\n",
        "\n",
        "\n",
        "\n",
        "\n",
        "\n",
        "\n",
        "\n",
        "   \n",
        "\n",
        "\n",
        "\n",
        "\n"
      ],
      "metadata": {
        "id": "eCa8U7UCkoKX"
      }
    },
    {
      "cell_type": "code",
      "source": [
        "print(\"Hello, World\")"
      ],
      "metadata": {
        "colab": {
          "base_uri": "https://localhost:8080/"
        },
        "id": "Ay2khsJwdn_D",
        "outputId": "843c89a4-31d8-4ba2-9627-a9abb8c49c70"
      },
      "execution_count": 1,
      "outputs": [
        {
          "output_type": "stream",
          "name": "stdout",
          "text": [
            "Hello, World\n"
          ]
        }
      ]
    },
    {
      "cell_type": "markdown",
      "source": [
        "2.  Write a Python program that displays your name and age?"
      ],
      "metadata": {
        "id": "9CHqHXVPd0uW"
      }
    },
    {
      "cell_type": "code",
      "source": [
        "name=input(\"enter your name:\")\n",
        "age=input(\"enter your age:\")\n",
        "print(f\"Hello, {name}! You are {age} years old.\")"
      ],
      "metadata": {
        "colab": {
          "base_uri": "https://localhost:8080/"
        },
        "id": "JvHjVT1segPE",
        "outputId": "a77625d9-0b08-4277-f51c-ae413cb76706"
      },
      "execution_count": 6,
      "outputs": [
        {
          "output_type": "stream",
          "name": "stdout",
          "text": [
            "enter your name:sajiya\n",
            "enter your age:21\n",
            "Hello, sajiya! You are 21 years old.\n"
          ]
        }
      ]
    },
    {
      "cell_type": "markdown",
      "source": [
        "Q.3 Write code to print all the pre-defined keywords in Python using the keyword library\n",
        "\n"
      ],
      "metadata": {
        "id": "BbWF2uD5hq6V"
      }
    },
    {
      "cell_type": "code",
      "metadata": {
        "colab": {
          "base_uri": "https://localhost:8080/"
        },
        "id": "ad053fa9",
        "outputId": "84fffdcd-c629-4c92-e649-c08de239bb5e"
      },
      "source": [
        "import keyword\n",
        "\n",
        "print(keyword.kwlist)"
      ],
      "execution_count": 7,
      "outputs": [
        {
          "output_type": "stream",
          "name": "stdout",
          "text": [
            "['False', 'None', 'True', 'and', 'as', 'assert', 'async', 'await', 'break', 'class', 'continue', 'def', 'del', 'elif', 'else', 'except', 'finally', 'for', 'from', 'global', 'if', 'import', 'in', 'is', 'lambda', 'nonlocal', 'not', 'or', 'pass', 'raise', 'return', 'try', 'while', 'with', 'yield']\n"
          ]
        }
      ]
    },
    {
      "cell_type": "markdown",
      "source": [
        "Q.4 Write a program that checks if a given word is a Python keyword\n"
      ],
      "metadata": {
        "id": "reFkoh1MiM81"
      }
    },
    {
      "cell_type": "code",
      "metadata": {
        "colab": {
          "base_uri": "https://localhost:8080/"
        },
        "id": "275860b6",
        "outputId": "543544e2-5ed1-4b56-f0b7-dfa5947c996a"
      },
      "source": [
        "import keyword\n",
        "\n",
        "word = input(\"Enter a word to check: \")\n",
        "\n",
        "if word in keyword.kwlist:\n",
        "    print(f\"'{word}' is a Python keyword.\")\n",
        "else:\n",
        "    print(f\"'{word}' is not a Python keyword.\")"
      ],
      "execution_count": 9,
      "outputs": [
        {
          "output_type": "stream",
          "name": "stdout",
          "text": [
            "Enter a word to check: or\n",
            "'or' is a Python keyword.\n"
          ]
        }
      ]
    },
    {
      "cell_type": "markdown",
      "source": [
        "Q.5 Create a list and tuple in Python, and demonstrate how attempting to change an element works differently for each\n",
        "\n"
      ],
      "metadata": {
        "id": "C5YDHZr_i3mw"
      }
    },
    {
      "cell_type": "code",
      "metadata": {
        "colab": {
          "base_uri": "https://localhost:8080/"
        },
        "id": "c06eeaaa",
        "outputId": "3bf437e3-37e5-462f-83f7-b1a29e38cb3a"
      },
      "source": [
        "# Create a list\n",
        "my_list = [10, 20, 30, 40, 50]\n",
        "print(\"Original list:\", my_list)\n",
        "\n",
        "# Attempt to change an element in the list\n",
        "my_list[2] = 35\n",
        "print(\"List after attempting to change element:\", my_list)\n",
        "\n",
        "print(\"-\" * 20) # Separator\n",
        "\n",
        "# Create a tuple\n",
        "my_tuple = (100, 200, 300, 400, 500)\n",
        "print(\"Original tuple:\", my_tuple)\n",
        "\n",
        "# Attempt to change an element in the tuple\n",
        "try:\n",
        "    my_tuple[2] = 350\n",
        "except TypeError as e:\n",
        "    print(\"Error when attempting to change element in tuple:\", e)"
      ],
      "execution_count": 10,
      "outputs": [
        {
          "output_type": "stream",
          "name": "stdout",
          "text": [
            "Original list: [10, 20, 30, 40, 50]\n",
            "List after attempting to change element: [10, 20, 35, 40, 50]\n",
            "--------------------\n",
            "Original tuple: (100, 200, 300, 400, 500)\n",
            "Error when attempting to change element in tuple: 'tuple' object does not support item assignment\n"
          ]
        }
      ]
    },
    {
      "cell_type": "markdown",
      "source": [
        "Q.6 Write a function to demonstrate the behavior of mutable and immutable arguments in Python.\n",
        "\n"
      ],
      "metadata": {
        "id": "AWtaq3imjMWy"
      }
    },
    {
      "cell_type": "code",
      "metadata": {
        "colab": {
          "base_uri": "https://localhost:8080/"
        },
        "id": "94cb7c06",
        "outputId": "0c131b8b-4dff-427f-f234-d3c09f594ec3"
      },
      "source": [
        "def modify_list(my_list):\n",
        "  \"\"\"Demonstrates passing a mutable argument (list).\"\"\"\n",
        "  print(\"Inside function (before modification):\", my_list)\n",
        "  my_list.append(4) # Modifies the original list\n",
        "  print(\"Inside function (after modification):\", my_list)\n",
        "\n",
        "def modify_number(my_number):\n",
        "  \"\"\"Demonstrates passing an immutable argument (integer).\"\"\"\n",
        "  print(\"Inside function (before modification):\", my_number)\n",
        "  my_number += 1 # Creates a new integer object, does not modify the original\n",
        "  print(\"Inside function (after modification):\", my_number)\n",
        "\n",
        "# Demonstrate with a mutable object (list)\n",
        "my_list = [1, 2, 3]\n",
        "print(\"Outside function (before call):\", my_list)\n",
        "modify_list(my_list)\n",
        "print(\"Outside function (after call):\", my_list)\n",
        "\n",
        "print(\"-\" * 20) # Separator\n",
        "\n",
        "# Demonstrate with an immutable object (integer)\n",
        "my_number = 10\n",
        "print(\"Outside function (before call):\", my_number)\n",
        "modify_number(my_number)\n",
        "print(\"Outside function (after call):\", my_number)"
      ],
      "execution_count": 11,
      "outputs": [
        {
          "output_type": "stream",
          "name": "stdout",
          "text": [
            "Outside function (before call): [1, 2, 3]\n",
            "Inside function (before modification): [1, 2, 3]\n",
            "Inside function (after modification): [1, 2, 3, 4]\n",
            "Outside function (after call): [1, 2, 3, 4]\n",
            "--------------------\n",
            "Outside function (before call): 10\n",
            "Inside function (before modification): 10\n",
            "Inside function (after modification): 11\n",
            "Outside function (after call): 10\n"
          ]
        }
      ]
    },
    {
      "cell_type": "markdown",
      "source": [
        "Q.7 Write a program that performs basic arithmetic operations on two user-input numbers\n",
        "\n"
      ],
      "metadata": {
        "id": "Xi20AGTejhYW"
      }
    },
    {
      "cell_type": "code",
      "metadata": {
        "colab": {
          "base_uri": "https://localhost:8080/"
        },
        "id": "5b551b7c",
        "outputId": "78b89838-b041-44d9-96d3-aa411b5b79b2"
      },
      "source": [
        "try:\n",
        "    num1 = float(input(\"Enter the first number: \"))\n",
        "    num2 = float(input(\"Enter the second number: \"))\n",
        "\n",
        "    print(f\"{num1} + {num2} = {num1 + num2}\")\n",
        "    print(f\"{num1} - {num2} = {num1 - num2}\")\n",
        "    print(f\"{num1} * {num2} = {num1 * num2}\")\n",
        "\n",
        "    if num2 != 0:\n",
        "        print(f\"{num1} / {num2} = {num1 / num2}\")\n",
        "    else:\n",
        "        print(\"Cannot divide by zero.\")\n",
        "\n",
        "except ValueError:\n",
        "    print(\"Invalid input. Please enter numbers only.\")"
      ],
      "execution_count": 12,
      "outputs": [
        {
          "output_type": "stream",
          "name": "stdout",
          "text": [
            "Enter the first number: 5\n",
            "Enter the second number: 8\n",
            "5.0 + 8.0 = 13.0\n",
            "5.0 - 8.0 = -3.0\n",
            "5.0 * 8.0 = 40.0\n",
            "5.0 / 8.0 = 0.625\n"
          ]
        }
      ]
    },
    {
      "cell_type": "markdown",
      "source": [
        "Q.8 Write a program to demonstrate the use of logical operators\n",
        "\n"
      ],
      "metadata": {
        "id": "rDHOCk2Ojy6K"
      }
    },
    {
      "cell_type": "code",
      "metadata": {
        "colab": {
          "base_uri": "https://localhost:8080/"
        },
        "id": "45f31448",
        "outputId": "bd1596a4-eb5e-497e-fcd5-d67c87b4c5c4"
      },
      "source": [
        "# Demonstrating 'and'\n",
        "print(\"True and True:\", True and True)\n",
        "print(\"True and False:\", True and False)\n",
        "print(\"False and True:\", False and True)\n",
        "print(\"False and False:\", False and False)\n",
        "\n",
        "print(\"-\" * 20)\n",
        "\n",
        "# Demonstrating 'or'\n",
        "print(\"True or True:\", True or True)\n",
        "print(\"True or False:\", True or False)\n",
        "print(\"False or True:\", False or True)\n",
        "print(\"False or False:\", False or False)\n",
        "\n",
        "print(\"-\" * 20)\n",
        "\n",
        "# Demonstrating 'not'\n",
        "print(\"not True:\", not True)\n",
        "print(\"not False:\", not False)\n",
        "\n",
        "print(\"-\" * 20)\n",
        "\n",
        "# Using logical operators in a conditional statement\n",
        "age = 25\n",
        "has_license = True\n",
        "\n",
        "if age >= 18 and has_license:\n",
        "    print(\"You are an adult and can drive.\")\n",
        "else:\n",
        "    print(\"You are either not an adult or do not have a license.\")\n",
        "\n",
        "temperature = 15\n",
        "is_raining = False\n",
        "\n",
        "if temperature < 20 or is_raining:\n",
        "    print(\"It's either cool or raining (or both).\")\n",
        "else:\n",
        "    print(\"It's warm and not raining.\")"
      ],
      "execution_count": 15,
      "outputs": [
        {
          "output_type": "stream",
          "name": "stdout",
          "text": [
            "True and True: True\n",
            "True and False: False\n",
            "False and True: False\n",
            "False and False: False\n",
            "--------------------\n",
            "True or True: True\n",
            "True or False: True\n",
            "False or True: True\n",
            "False or False: False\n",
            "--------------------\n",
            "not True: False\n",
            "not False: True\n",
            "--------------------\n",
            "You are an adult and can drive.\n",
            "It's either cool or raining (or both).\n"
          ]
        }
      ]
    },
    {
      "cell_type": "markdown",
      "source": [
        "Q.9 Write a Python program to convert user input from string to integer, float, and boolean types\n",
        "\n"
      ],
      "metadata": {
        "id": "7ry_JlxIkAjD"
      }
    },
    {
      "cell_type": "code",
      "metadata": {
        "colab": {
          "base_uri": "https://localhost:8080/"
        },
        "id": "2480e5f8",
        "outputId": "2092727d-a0ec-4381-c099-f6b94faa3f41"
      },
      "source": [
        "user_input = input(\"Enter a value: \")\n",
        "\n",
        "# Convert to integer\n",
        "try:\n",
        "    int_value = int(user_input)\n",
        "    print(f\"Converted to integer: {int_value} (type: {type(int_value)})\")\n",
        "except ValueError:\n",
        "    print(f\"Could not convert '{user_input}' to integer.\")\n",
        "\n",
        "# Convert to float\n",
        "try:\n",
        "    float_value = float(user_input)\n",
        "    print(f\"Converted to float: {float_value} (type: {type(float_value)})\")\n",
        "except ValueError:\n",
        "    print(f\"Could not convert '{user_input}' to float.\")\n",
        "\n",
        "# Convert to boolean\n",
        "# In Python, empty strings and the string \"0\" are considered False,\n",
        "# and most other strings are considered True when converted to boolean.\n",
        "# For a more explicit boolean conversion based on specific string values (like \"True\" or \"False\"),\n",
        "# you would need to add conditional logic.\n",
        "bool_value = bool(user_input)\n",
        "print(f\"Converted to boolean: {bool_value} (type: {type(bool_value)})\")\n",
        "\n",
        "# Example of a more explicit boolean conversion for \"True\"/\"False\" strings\n",
        "if user_input.lower() == 'true':\n",
        "    explicit_bool_value = True\n",
        "    print(f\"Explicitly converted 'true' to boolean: {explicit_bool_value} (type: {type(explicit_bool_value)})\")\n",
        "elif user_input.lower() == 'false':\n",
        "    explicit_bool_value = False\n",
        "    print(f\"Explicitly converted 'false' to boolean: {explicit_bool_value} (type: {type(explicit_bool_value)})\")\n",
        "else:\n",
        "     print(f\"No explicit boolean conversion for '{user_input}' based on 'true'/'false' strings.\")"
      ],
      "execution_count": 16,
      "outputs": [
        {
          "output_type": "stream",
          "name": "stdout",
          "text": [
            "Enter a value: 5\n",
            "Converted to integer: 5 (type: <class 'int'>)\n",
            "Converted to float: 5.0 (type: <class 'float'>)\n",
            "Converted to boolean: True (type: <class 'bool'>)\n",
            "No explicit boolean conversion for '5' based on 'true'/'false' strings.\n"
          ]
        }
      ]
    },
    {
      "cell_type": "markdown",
      "source": [
        "Q.11 Write a program that checks if a number is positive, negative, or zero\n",
        "\n"
      ],
      "metadata": {
        "id": "DWQBQYK-kN7u"
      }
    },
    {
      "cell_type": "code",
      "metadata": {
        "colab": {
          "base_uri": "https://localhost:8080/"
        },
        "id": "3e5c4465",
        "outputId": "1555a5a2-f6bf-4bf1-aad0-fd32270d1811"
      },
      "source": [
        "try:\n",
        "    num = float(input(\"Enter a number: \"))\n",
        "\n",
        "    if num > 0:\n",
        "        print(f\"{num} is a positive number.\")\n",
        "    elif num < 0:\n",
        "        print(f\"{num} is a negative number.\")\n",
        "    else:\n",
        "        print(f\"{num} is zero.\")\n",
        "\n",
        "except ValueError:\n",
        "    print(\"Invalid input. Please enter a number.\")"
      ],
      "execution_count": 17,
      "outputs": [
        {
          "output_type": "stream",
          "name": "stdout",
          "text": [
            "Enter a number: 5\n",
            "5.0 is a positive number.\n"
          ]
        }
      ]
    },
    {
      "cell_type": "markdown",
      "source": [
        "Q.12 Write a for loop to print numbers from 1 to 10\n",
        "\n"
      ],
      "metadata": {
        "id": "A9pN7y4Hkf-a"
      }
    },
    {
      "cell_type": "code",
      "metadata": {
        "colab": {
          "base_uri": "https://localhost:8080/"
        },
        "id": "8d6486a7",
        "outputId": "276f0bfa-cd55-4cad-8c7e-809a00b1665e"
      },
      "source": [
        "for i in range(1, 11):\n",
        "  print(i)"
      ],
      "execution_count": 18,
      "outputs": [
        {
          "output_type": "stream",
          "name": "stdout",
          "text": [
            "1\n",
            "2\n",
            "3\n",
            "4\n",
            "5\n",
            "6\n",
            "7\n",
            "8\n",
            "9\n",
            "10\n"
          ]
        }
      ]
    },
    {
      "cell_type": "markdown",
      "source": [
        "13 Write a Python program to find the sum of all even numbers between 1 and 50\n",
        "\n"
      ],
      "metadata": {
        "id": "VFYpd0tRk3qt"
      }
    },
    {
      "cell_type": "code",
      "metadata": {
        "colab": {
          "base_uri": "https://localhost:8080/"
        },
        "id": "89c685a2",
        "outputId": "baa34d3b-984f-4df3-a07e-0e4cc75392a9"
      },
      "source": [
        "total_sum = 0\n",
        "\n",
        "for number in range(1, 51):\n",
        "  if number % 2 == 0:\n",
        "    total_sum += number\n",
        "\n",
        "print(f\"The sum of all even numbers between 1 and 50 is: {total_sum}\")"
      ],
      "execution_count": 19,
      "outputs": [
        {
          "output_type": "stream",
          "name": "stdout",
          "text": [
            "The sum of all even numbers between 1 and 50 is: 650\n"
          ]
        }
      ]
    },
    {
      "cell_type": "markdown",
      "source": [
        "Q.14 Write a program to reverse a string using a while loop\n",
        "\n"
      ],
      "metadata": {
        "id": "YeJ_em19lSeC"
      }
    },
    {
      "cell_type": "code",
      "metadata": {
        "colab": {
          "base_uri": "https://localhost:8080/"
        },
        "id": "7ab16a48",
        "outputId": "daa238bc-d79d-4c51-d861-ad05a4430ca0"
      },
      "source": [
        "input_string = input(\"Enter a string to reverse: \")\n",
        "reversed_string = \"\"\n",
        "index = len(input_string) - 1\n",
        "\n",
        "while index >= 0:\n",
        "  reversed_string += input_string[index]\n",
        "  index -= 1\n",
        "\n",
        "print(f\"The reversed string is: {reversed_string}\")"
      ],
      "execution_count": 20,
      "outputs": [
        {
          "output_type": "stream",
          "name": "stdout",
          "text": [
            "Enter a string to reverse: sajiya\n",
            "The reversed string is: ayijas\n"
          ]
        }
      ]
    },
    {
      "cell_type": "markdown",
      "source": [
        "Q.15 Write a Python program to calculate the factorial of a number provided by the user using a while loop\n",
        "\n"
      ],
      "metadata": {
        "id": "OvpNA1J3lcpU"
      }
    },
    {
      "cell_type": "code",
      "metadata": {
        "colab": {
          "base_uri": "https://localhost:8080/"
        },
        "id": "5ab33510",
        "outputId": "6f63bdf7-a23b-4b0b-ae44-b6009a833eba"
      },
      "source": [
        "try:\n",
        "    num = int(input(\"Enter a non-negative integer to calculate its factorial: \"))\n",
        "\n",
        "    if num < 0:\n",
        "        print(\"Factorial is not defined for negative numbers.\")\n",
        "    elif num == 0:\n",
        "        print(\"The factorial of 0 is 1.\")\n",
        "    else:\n",
        "        factorial = 1\n",
        "        i = 1\n",
        "        while i <= num:\n",
        "            factorial *= i\n",
        "            i += 1\n",
        "        print(f\"The factorial of {num} is {factorial}.\")\n",
        "\n",
        "except ValueError:\n",
        "    print(\"Invalid input. Please enter an integer.\")"
      ],
      "execution_count": 21,
      "outputs": [
        {
          "output_type": "stream",
          "name": "stdout",
          "text": [
            "Enter a non-negative integer to calculate its factorial: 6\n",
            "The factorial of 6 is 720.\n"
          ]
        }
      ]
    }
  ]
}